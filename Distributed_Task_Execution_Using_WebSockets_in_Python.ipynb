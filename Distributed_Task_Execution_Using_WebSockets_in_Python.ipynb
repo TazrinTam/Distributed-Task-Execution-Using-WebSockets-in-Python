{
  "nbformat": 4,
  "nbformat_minor": 0,
  "metadata": {
    "colab": {
      "provenance": []
    },
    "kernelspec": {
      "name": "python3",
      "display_name": "Python 3"
    },
    "language_info": {
      "name": "python"
    }
  },
  "cells": [
    {
      "cell_type": "code",
      "source": [],
      "metadata": {
        "id": "Mz0x82a0Uscg"
      },
      "execution_count": null,
      "outputs": []
    },
    {
      "cell_type": "code",
      "source": [
        "!pip install websockets"
      ],
      "metadata": {
        "colab": {
          "base_uri": "https://localhost:8080/"
        },
        "id": "dWcu7NmOUsgH",
        "outputId": "3fb6038d-a5e3-4c46-ddf8-c619cb617665"
      },
      "execution_count": 2,
      "outputs": [
        {
          "output_type": "stream",
          "name": "stdout",
          "text": [
            "Collecting websockets\n",
            "  Downloading websockets-14.1-cp310-cp310-manylinux_2_5_x86_64.manylinux1_x86_64.manylinux_2_17_x86_64.manylinux2014_x86_64.whl.metadata (6.7 kB)\n",
            "Downloading websockets-14.1-cp310-cp310-manylinux_2_5_x86_64.manylinux1_x86_64.manylinux_2_17_x86_64.manylinux2014_x86_64.whl (168 kB)\n",
            "\u001b[?25l   \u001b[90m━━━━━━━━━━━━━━━━━━━━━━━━━━━━━━━━━━━━━━━━\u001b[0m \u001b[32m0.0/168.2 kB\u001b[0m \u001b[31m?\u001b[0m eta \u001b[36m-:--:--\u001b[0m\r\u001b[2K   \u001b[91m━━━━━━━━━━━━━━━━━━━━━━━━━━━━━━━━━━━━━━\u001b[0m\u001b[91m╸\u001b[0m\u001b[90m━\u001b[0m \u001b[32m163.8/168.2 kB\u001b[0m \u001b[31m5.7 MB/s\u001b[0m eta \u001b[36m0:00:01\u001b[0m\r\u001b[2K   \u001b[90m━━━━━━━━━━━━━━━━━━━━━━━━━━━━━━━━━━━━━━━━\u001b[0m \u001b[32m168.2/168.2 kB\u001b[0m \u001b[31m3.8 MB/s\u001b[0m eta \u001b[36m0:00:00\u001b[0m\n",
            "\u001b[?25hInstalling collected packages: websockets\n",
            "Successfully installed websockets-14.1\n"
          ]
        }
      ]
    },
    {
      "cell_type": "code",
      "source": [
        "import asyncio\n",
        "import websockets\n",
        "import json\n",
        "import nest_asyncio\n",
        "\n",
        "nest_asyncio.apply()\n",
        "\n",
        "WORKER_NODES = {}\n",
        "\n",
        "# Register workers\n",
        "async def register_worker(websocket):\n",
        "    try:\n",
        "        async for message in websocket:\n",
        "            data = json.loads(message)\n",
        "            if data[\"type\"] == \"register\":\n",
        "                task_type = data[\"task_type\"]\n",
        "                WORKER_NODES[task_type] = websocket\n",
        "                print(f\"Worker registered for task type: {task_type}\")\n",
        "    except websockets.ConnectionClosed:\n",
        "        print(\"Worker disconnected.\")\n",
        "\n",
        "# Assign tasks\n",
        "async def assign_tasks(task_sequence):\n",
        "    results = []\n",
        "    for task in task_sequence:\n",
        "        task_type = task[0]  # e.g., 'a' from 'a1'\n",
        "        worker = WORKER_NODES.get(task_type)\n",
        "        if worker:\n",
        "            try:\n",
        "                await worker.send(json.dumps({\"type\": \"task\", \"task\": task}))\n",
        "                result = await worker.recv()\n",
        "                print(f\"Result received: {result}\")\n",
        "                results.append(result)\n",
        "            except websockets.ConnectionClosed:\n",
        "                print(f\"Worker for {task_type} disconnected.\")\n",
        "        else:\n",
        "            print(f\"No worker for task type {task_type}\")\n",
        "    return results\n",
        "\n",
        "async def wait_for_workers(timeout=10):\n",
        "    \"\"\"Wait for workers to register.\"\"\"\n",
        "    for _ in range(timeout):\n",
        "        if WORKER_NODES:\n",
        "            return True\n",
        "        print(\"Waiting for workers to register...\")\n",
        "        await asyncio.sleep(1)\n",
        "    return False\n",
        "\n",
        "async def master_main():\n",
        "    print(\"Master started, waiting for workers...\")\n",
        "    async with websockets.serve(register_worker, \"0.0.0.0\", 8000):  # Bind to all interfaces\n",
        "        workers_ready = await wait_for_workers(timeout=10)\n",
        "        if not workers_ready:\n",
        "            print(\"No workers registered. Exiting...\")\n",
        "            return\n",
        "\n",
        "        task_sequence = [\"a1\", \"a2\", \"c1\", \"b1\", \"c2\", \"a3\", \"b2\", \"b3\", \"a4\", \"c3\", \"b4\"]\n",
        "        results = await assign_tasks(task_sequence)\n",
        "        print(\"All tasks completed. Results:\", results)\n",
        "\n",
        "await master_main()\n"
      ],
      "metadata": {
        "colab": {
          "base_uri": "https://localhost:8080/"
        },
        "id": "CDj0OzyUUskg",
        "outputId": "461b28c1-b3b1-450b-eb87-c255679659f0"
      },
      "execution_count": 5,
      "outputs": [
        {
          "output_type": "stream",
          "name": "stdout",
          "text": [
            "Master started, waiting for workers...\n",
            "Waiting for workers to register...\n",
            "Waiting for workers to register...\n",
            "Waiting for workers to register...\n",
            "Waiting for workers to register...\n",
            "Waiting for workers to register...\n",
            "Waiting for workers to register...\n",
            "Waiting for workers to register...\n",
            "Waiting for workers to register...\n",
            "Waiting for workers to register...\n",
            "Waiting for workers to register...\n",
            "No workers registered. Exiting...\n"
          ]
        }
      ]
    },
    {
      "cell_type": "code",
      "source": [
        "import asyncio\n",
        "import websockets\n",
        "import json\n",
        "import nest_asyncio\n",
        "\n",
        "nest_asyncio.apply()\n",
        "\n",
        "async def worker_main(task_type, server_ip, server_port=8000):\n",
        "    uri = f\"ws://{server_ip}:{server_port}\"\n",
        "    try:\n",
        "        async with websockets.connect(uri) as websocket:\n",
        "            # Register the worker\n",
        "            registration_message = {\"type\": \"register\", \"task_type\": task_type}\n",
        "            await websocket.send(json.dumps(registration_message))\n",
        "            print(f\"Worker registered for task type: {task_type}\")\n",
        "\n",
        "            # Handle tasks\n",
        "            async for message in websocket:\n",
        "                data = json.loads(message)\n",
        "                if data[\"type\"] == \"task\":\n",
        "                    task = data[\"task\"]\n",
        "                    print(f\"Executing task: {task}\")\n",
        "                    result = f\"{task}_completed\"\n",
        "                    await websocket.send(result)\n",
        "    except Exception as e:\n",
        "        print(f\"Error in worker: {e}\")\n",
        "\n",
        "# Input server details\n",
        "server_ip = input(\"Enter the server IP (default 127.0.0.1): \").strip() or \"127.0.0.1\"\n",
        "server_port_input = input(\"Enter the server port (default 8000): \").strip()\n",
        "server_port = 8000  # Default port\n",
        "if server_port_input:\n",
        "    try:\n",
        "        server_port = int(server_port_input)\n",
        "    except ValueError:\n",
        "        print(\"Invalid port number! Using default port 8000.\")\n",
        "\n",
        "task_type = input(\"Enter task type (e.g., a, b, c): \").strip()\n",
        "\n",
        "# Run the worker\n",
        "await worker_main(task_type, server_ip, server_port)"
      ],
      "metadata": {
        "id": "J6C1Dr_rVAcn"
      },
      "execution_count": null,
      "outputs": []
    }
  ]
}